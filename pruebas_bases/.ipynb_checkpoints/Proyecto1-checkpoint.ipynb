{
 "cells": [
  {
   "cell_type": "code",
   "execution_count": 7,
   "metadata": {},
   "outputs": [],
   "source": [
    "import string, re, os\n",
    "import pandas as pd"
   ]
  },
  {
   "cell_type": "code",
   "execution_count": 65,
   "metadata": {},
   "outputs": [
    {
     "data": {
      "text/plain": [
       "['.ipynb_checkpoints',\n",
       " 'DescargaTweets.ipynb',\n",
       " 'Ejemplos de tweets.docx',\n",
       " 'Proyecto1.ipynb',\n",
       " 'prueba1.xlsx',\n",
       " 'prueba_covid.tsv',\n",
       " 'prueba_covid.xlsx']"
      ]
     },
     "execution_count": 65,
     "metadata": {},
     "output_type": "execute_result"
    }
   ],
   "source": [
    "os.listdir(\"C:/Users/Alejandra/Desktop/pruebas_bases\")"
   ]
  },
  {
   "cell_type": "code",
   "execution_count": 223,
   "metadata": {},
   "outputs": [],
   "source": [
    "datos=pd.read_excel(\"prueba1.xlsx\",sheet_name=\"Archive\")"
   ]
  },
  {
   "cell_type": "code",
   "execution_count": 224,
   "metadata": {},
   "outputs": [
    {
     "data": {
      "text/html": [
       "<div>\n",
       "<style scoped>\n",
       "    .dataframe tbody tr th:only-of-type {\n",
       "        vertical-align: middle;\n",
       "    }\n",
       "\n",
       "    .dataframe tbody tr th {\n",
       "        vertical-align: top;\n",
       "    }\n",
       "\n",
       "    .dataframe thead th {\n",
       "        text-align: right;\n",
       "    }\n",
       "</style>\n",
       "<table border=\"1\" class=\"dataframe\">\n",
       "  <thead>\n",
       "    <tr style=\"text-align: right;\">\n",
       "      <th></th>\n",
       "      <th>id_str</th>\n",
       "      <th>from_user</th>\n",
       "      <th>text</th>\n",
       "      <th>created_at</th>\n",
       "      <th>time</th>\n",
       "      <th>geo_coordinates</th>\n",
       "      <th>user_lang</th>\n",
       "      <th>in_reply_to_user_id_str</th>\n",
       "      <th>in_reply_to_screen_name</th>\n",
       "      <th>from_user_id_str</th>\n",
       "      <th>in_reply_to_status_id_str</th>\n",
       "      <th>source</th>\n",
       "      <th>profile_image_url</th>\n",
       "      <th>user_followers_count</th>\n",
       "      <th>user_friends_count</th>\n",
       "      <th>user_location</th>\n",
       "      <th>status_url</th>\n",
       "      <th>entities_str</th>\n",
       "    </tr>\n",
       "  </thead>\n",
       "  <tbody>\n",
       "    <tr>\n",
       "      <th>0</th>\n",
       "      <td>1254475950059896832</td>\n",
       "      <td>elk2812</td>\n",
       "      <td>@Fernand60915270 @farmerguanabana @jflafaurie ...</td>\n",
       "      <td>Sun Apr 26 18:22:28 +0000 2020</td>\n",
       "      <td>2020-04-26 19:22:28</td>\n",
       "      <td>NaN</td>\n",
       "      <td>NaN</td>\n",
       "      <td>1.189782e+18</td>\n",
       "      <td>Fernand60915270</td>\n",
       "      <td>1160001175380484097</td>\n",
       "      <td>1.254359e+18</td>\n",
       "      <td>&lt;a href=\"http://twitter.com/download/android\" ...</td>\n",
       "      <td>http://pbs.twimg.com/profile_images/1160001592...</td>\n",
       "      <td>1708</td>\n",
       "      <td>3296</td>\n",
       "      <td>NaN</td>\n",
       "      <td>http://twitter.com/elk2812/statuses/1254475950...</td>\n",
       "      <td>{\"hashtags\":[],\"symbols\":[],\"user_mentions\":[{...</td>\n",
       "    </tr>\n",
       "    <tr>\n",
       "      <th>1</th>\n",
       "      <td>1254469890683084800</td>\n",
       "      <td>JhojanObregon</td>\n",
       "      <td>Este señor parece que solo lee el título de no...</td>\n",
       "      <td>Sun Apr 26 17:58:23 +0000 2020</td>\n",
       "      <td>2020-04-26 18:58:23</td>\n",
       "      <td>NaN</td>\n",
       "      <td>NaN</td>\n",
       "      <td>NaN</td>\n",
       "      <td>NaN</td>\n",
       "      <td>201605528</td>\n",
       "      <td>NaN</td>\n",
       "      <td>&lt;a href=\"http://twitter.com/download/iphone\" r...</td>\n",
       "      <td>http://pbs.twimg.com/profile_images/1246568582...</td>\n",
       "      <td>165</td>\n",
       "      <td>634</td>\n",
       "      <td>Lima: -12.062106, -77.036526</td>\n",
       "      <td>http://twitter.com/JhojanObregon/statuses/1254...</td>\n",
       "      <td>{\"hashtags\":[],\"symbols\":[],\"user_mentions\":[]...</td>\n",
       "    </tr>\n",
       "    <tr>\n",
       "      <th>2</th>\n",
       "      <td>1254419035208462336</td>\n",
       "      <td>farcila20</td>\n",
       "      <td>El cómplice de Santrich en Colombia goza de to...</td>\n",
       "      <td>Sun Apr 26 14:36:18 +0000 2020</td>\n",
       "      <td>2020-04-26 15:36:18</td>\n",
       "      <td>NaN</td>\n",
       "      <td>NaN</td>\n",
       "      <td>NaN</td>\n",
       "      <td>NaN</td>\n",
       "      <td>1210573841153581057</td>\n",
       "      <td>NaN</td>\n",
       "      <td>&lt;a href=\"http://twitter.com/download/iphone\" r...</td>\n",
       "      <td>http://pbs.twimg.com/profile_images/1210574132...</td>\n",
       "      <td>532</td>\n",
       "      <td>963</td>\n",
       "      <td>NaN</td>\n",
       "      <td>http://twitter.com/farcila20/statuses/12544190...</td>\n",
       "      <td>{\"hashtags\":[],\"symbols\":[],\"user_mentions\":[]...</td>\n",
       "    </tr>\n",
       "    <tr>\n",
       "      <th>3</th>\n",
       "      <td>1254261736812810241</td>\n",
       "      <td>Tapas667</td>\n",
       "      <td>@Lucho_Pipe10 @Elbatobatillo Pues colombia apo...</td>\n",
       "      <td>Sun Apr 26 04:11:15 +0000 2020</td>\n",
       "      <td>2020-04-26 05:11:15</td>\n",
       "      <td>NaN</td>\n",
       "      <td>NaN</td>\n",
       "      <td>8.199648e+17</td>\n",
       "      <td>Lucho_Pipe10</td>\n",
       "      <td>1062105377637052419</td>\n",
       "      <td>1.254250e+18</td>\n",
       "      <td>&lt;a href=\"http://twitter.com/download/android\" ...</td>\n",
       "      <td>http://pbs.twimg.com/profile_images/1241786730...</td>\n",
       "      <td>24</td>\n",
       "      <td>52</td>\n",
       "      <td>Bogotá, D.C., Colombia</td>\n",
       "      <td>http://twitter.com/Tapas667/statuses/125426173...</td>\n",
       "      <td>{\"hashtags\":[],\"symbols\":[],\"user_mentions\":[{...</td>\n",
       "    </tr>\n",
       "    <tr>\n",
       "      <th>4</th>\n",
       "      <td>1254132061771882498</td>\n",
       "      <td>FlorMariaSerna5</td>\n",
       "      <td>@DELAESPRIELLAE @AlexLopezMaya Honorable Dr AB...</td>\n",
       "      <td>Sat Apr 25 19:35:58 +0000 2020</td>\n",
       "      <td>2020-04-25 20:35:58</td>\n",
       "      <td>NaN</td>\n",
       "      <td>NaN</td>\n",
       "      <td>5.489067e+08</td>\n",
       "      <td>DELAESPRIELLAE</td>\n",
       "      <td>1224110745970991109</td>\n",
       "      <td>1.253837e+18</td>\n",
       "      <td>&lt;a href=\"http://twitter.com/download/android\" ...</td>\n",
       "      <td>http://pbs.twimg.com/profile_images/1251262160...</td>\n",
       "      <td>57</td>\n",
       "      <td>64</td>\n",
       "      <td>NaN</td>\n",
       "      <td>http://twitter.com/FlorMariaSerna5/statuses/12...</td>\n",
       "      <td>{\"hashtags\":[],\"symbols\":[],\"user_mentions\":[{...</td>\n",
       "    </tr>\n",
       "  </tbody>\n",
       "</table>\n",
       "</div>"
      ],
      "text/plain": [
       "                id_str        from_user  \\\n",
       "0  1254475950059896832          elk2812   \n",
       "1  1254469890683084800    JhojanObregon   \n",
       "2  1254419035208462336        farcila20   \n",
       "3  1254261736812810241         Tapas667   \n",
       "4  1254132061771882498  FlorMariaSerna5   \n",
       "\n",
       "                                                text  \\\n",
       "0  @Fernand60915270 @farmerguanabana @jflafaurie ...   \n",
       "1  Este señor parece que solo lee el título de no...   \n",
       "2  El cómplice de Santrich en Colombia goza de to...   \n",
       "3  @Lucho_Pipe10 @Elbatobatillo Pues colombia apo...   \n",
       "4  @DELAESPRIELLAE @AlexLopezMaya Honorable Dr AB...   \n",
       "\n",
       "                       created_at                time  geo_coordinates  \\\n",
       "0  Sun Apr 26 18:22:28 +0000 2020 2020-04-26 19:22:28              NaN   \n",
       "1  Sun Apr 26 17:58:23 +0000 2020 2020-04-26 18:58:23              NaN   \n",
       "2  Sun Apr 26 14:36:18 +0000 2020 2020-04-26 15:36:18              NaN   \n",
       "3  Sun Apr 26 04:11:15 +0000 2020 2020-04-26 05:11:15              NaN   \n",
       "4  Sat Apr 25 19:35:58 +0000 2020 2020-04-25 20:35:58              NaN   \n",
       "\n",
       "   user_lang  in_reply_to_user_id_str in_reply_to_screen_name  \\\n",
       "0        NaN             1.189782e+18         Fernand60915270   \n",
       "1        NaN                      NaN                     NaN   \n",
       "2        NaN                      NaN                     NaN   \n",
       "3        NaN             8.199648e+17            Lucho_Pipe10   \n",
       "4        NaN             5.489067e+08          DELAESPRIELLAE   \n",
       "\n",
       "      from_user_id_str  in_reply_to_status_id_str  \\\n",
       "0  1160001175380484097               1.254359e+18   \n",
       "1            201605528                        NaN   \n",
       "2  1210573841153581057                        NaN   \n",
       "3  1062105377637052419               1.254250e+18   \n",
       "4  1224110745970991109               1.253837e+18   \n",
       "\n",
       "                                              source  \\\n",
       "0  <a href=\"http://twitter.com/download/android\" ...   \n",
       "1  <a href=\"http://twitter.com/download/iphone\" r...   \n",
       "2  <a href=\"http://twitter.com/download/iphone\" r...   \n",
       "3  <a href=\"http://twitter.com/download/android\" ...   \n",
       "4  <a href=\"http://twitter.com/download/android\" ...   \n",
       "\n",
       "                                   profile_image_url  user_followers_count  \\\n",
       "0  http://pbs.twimg.com/profile_images/1160001592...                  1708   \n",
       "1  http://pbs.twimg.com/profile_images/1246568582...                   165   \n",
       "2  http://pbs.twimg.com/profile_images/1210574132...                   532   \n",
       "3  http://pbs.twimg.com/profile_images/1241786730...                    24   \n",
       "4  http://pbs.twimg.com/profile_images/1251262160...                    57   \n",
       "\n",
       "   user_friends_count                 user_location  \\\n",
       "0                3296                           NaN   \n",
       "1                 634  Lima: -12.062106, -77.036526   \n",
       "2                 963                           NaN   \n",
       "3                  52        Bogotá, D.C., Colombia   \n",
       "4                  64                           NaN   \n",
       "\n",
       "                                          status_url  \\\n",
       "0  http://twitter.com/elk2812/statuses/1254475950...   \n",
       "1  http://twitter.com/JhojanObregon/statuses/1254...   \n",
       "2  http://twitter.com/farcila20/statuses/12544190...   \n",
       "3  http://twitter.com/Tapas667/statuses/125426173...   \n",
       "4  http://twitter.com/FlorMariaSerna5/statuses/12...   \n",
       "\n",
       "                                        entities_str  \n",
       "0  {\"hashtags\":[],\"symbols\":[],\"user_mentions\":[{...  \n",
       "1  {\"hashtags\":[],\"symbols\":[],\"user_mentions\":[]...  \n",
       "2  {\"hashtags\":[],\"symbols\":[],\"user_mentions\":[]...  \n",
       "3  {\"hashtags\":[],\"symbols\":[],\"user_mentions\":[{...  \n",
       "4  {\"hashtags\":[],\"symbols\":[],\"user_mentions\":[{...  "
      ]
     },
     "execution_count": 224,
     "metadata": {},
     "output_type": "execute_result"
    }
   ],
   "source": [
    "datos.head()"
   ]
  },
  {
   "cell_type": "code",
   "execution_count": 225,
   "metadata": {},
   "outputs": [],
   "source": [
    "\n",
    "#regular expresion operatiors\n",
    "\n",
    "def strip_links(text):\n",
    "    link_regex    = re.compile('((https?):((//)|(\\\\\\\\))+([\\w\\d:#@%/;$()~_?\\+-=\\\\\\.&](#!)?)*)', re.DOTALL)\n",
    "    links         = re.findall(link_regex, text)\n",
    "    for link in links:\n",
    "        text = text.replace(link[0], ', ')    \n",
    "    return text\n",
    "\n",
    "def strip_all_entities(text):\n",
    "    entity_prefixes = ['@','#','\\\\']\n",
    "    for separator in  string.punctuation:\n",
    "        if separator not in entity_prefixes :\n",
    "            text = text.replace(separator,' ')\n",
    "    words = []\n",
    "    for word in text.split():\n",
    "        word = word.strip()\n",
    "        if word:\n",
    "            if word[0] not in entity_prefixes:\n",
    "                words.append(word)\n",
    "    return ' '.join(words)"
   ]
  },
  {
   "cell_type": "code",
   "execution_count": 226,
   "metadata": {},
   "outputs": [],
   "source": [
    "text=datos['text'].tolist()\n"
   ]
  },
  {
   "cell_type": "code",
   "execution_count": 227,
   "metadata": {},
   "outputs": [
    {
     "name": "stdout",
     "output_type": "stream",
     "text": [
      "['@Fernand60915270 @farmerguanabana @jflafaurie @HenaoBernardo @Fedegan @GaulaMilitares @GaulaPolicia @NobelPrize @JuanManSantos @JEP_Colombia @PartidoFARC @IvanDuque @CongresoCol Por La Empresa e Inversión es que Ud y Su Flia Pueden Comer y Disfrutar  de Medios para que uds PARASITOS VIVAN porque Trabaja Mas facil una Pala Empeñada que un Solo MAMERTOS de Uds Se Mueva y Algo por este País Viven de Gorra del Secuestro la Extorsión y Se Camuflan de Lideres', 'Este señor parece que solo lee el título de noticia. Tanto Uruguay, México, Colombia y Chile, viene aplicando educación a distancia muchos años atrás. Aquí un genocida apoyó prensa chicha y mató estudiantes universitarios, un suicida secuestró docentes, y así. Hipócrita! https://t.co/20GvR0Cnw0', 'El cómplice de Santrich en Colombia goza de total apoyo de los magistrados, jurídicamente podría decirse qué hay complicidad con el terrorismo? https://t.co/NiogAyqyXf', '@Lucho_Pipe10 @Elbatobatillo Pues colombia apoyó en la guerra de Corea, tal vez se acuerdan y nos mandan un bombazo', '@DELAESPRIELLAE @AlexLopezMaya Honorable Dr ABELARDODELAESPRILLA \\nMuchas gracias por ayudar a salvar a Colombia permítame felicitarlo usted es una persona frentera sin miedo para cantarle la tabla de frente al terrorismo mi aprecio y admiración por su buen trabajo de abogado un abrazo feliz tarde', '@MartinSantosR Las FARC siguen vivas, solo que su CÚPULA ya no está en El Monte, está en el congreso. De resto todo igual: extorsión catatumbo. Nariño,Cauca etc. asesinatos selectivos, secuestros, tráfico de armas y droga, vínculos con carteles, reclutamiento de niños, apoyo desde Vzla. #Tontin', '@MartinSantosR Seria perfecto, porque el virus ayudaria a acabar con las FARC, pero no. A su papá le dieron ganas de dejar un pais en paz. La paz no sirve, los uribistas necesitamos conflicto, guerra, muerte y el traidor de su padre nos la quitó.Ahora nos toca inventar otro gracias a farcsantos', '@MartinSantosR Por Dios lo único que ya no existe de las FARC es la CÚPULA en El Monte! De resto está todo: extorsión es Zonas como catatumbo. Nariño,Cauca etc. asesinatos selectivos, secuestros, tráfico de armas y droga, vínculos con carteles, reclutamiento de niños, apoyo desde Vzla. #Tontin', 'Ey, Bangtan TIENE que saber de Colombia🇨🇴 porque en el colegio les debieron enseñar en historia que Colombia fue el único país latino que envió soldados como apoyo a Corea del Sur en la guerra contra Corea del Norte.\\nNOS DEBES MUCHAS BANGTAN!! Merecemos más 😤\\n@BTS_twt #BTS #ARMY', 'Si el pueblo elige un gobierno con política de guerra y apoyo empresarial, no creamos q por arte de magia se convierta en un gobierno solidario y sentido social. Un sistema de salud que busca el enriquecimiento de unos pocos y lo que quede para la atención https://t.co/3ZNXJZwjGA', 'Colombia el país más entrenado militarmente. Grupos de élite infranqueables... cientos de millones en armas... lo malo viene cuando a un soldado le toca ir al médico y su eps  no  lo atiende.', '@AngelicaLozanoC El apoyo consiste en que el gobierno criminal de Colombia, sigue arrodillado a los intereses de Trump, e intercambio de drogas ppr armas, a USA en estos momentos lo levanta la COCA, tienen via libre para transportarla.', '@VickyDavilaH @GustavoBolivar que este personaje siniestro si toca hacerle inteligencia porque nació sin ella o si la tiene la utiliza para justificar la maldad y ser cómplices del narcotráfico y terrorismo en Colombia.', 'Los hijos requieren atención, cuidado, en un país como el nuestro la prioridad es la de transformar el escenario de guerra por una colombia en paz. Solo si uno de verdad quiere lo mejor para sus hijos. Alguien se siente feliz dejando que sus hijos repitan la historia ✍️.', '@AIerta @tercio_t4 Pues para vivir en Colombia y tener una vida recorrida ya, haz visto muy poco en lo q a tu país se refiere, es fácil hablar mierda cuanto no te toca o no sufres las consecuencias de la corrupción y la guerra insignias de nuestro pais, para mí no haz visto nada', '@Fernand12652025 @MarioBe31112284 @CubanetNoticias Todo lo contrario AL FIN se conoce que ES Tiranía Castrista #Cuba solo con su apoyo \"INCONDICIONAL\" Tiranía Castrochavista #Venezuela donde hay 8mil Asesinatos Extrajudiciales esta DESACREDITADA sus vinculos con Terrorismo ELN Y FARC ya no engañan a nadie solo al que lo permite https://t.co/m8Q80y8FPK', 'El #congreso de Colombia apoyó la iniciativa de asignar $100.000 millones de pesos para combatir el #coronavirus, pero dejan claro que, estos recursos se mantienen en las fuerzas armadas para fortalecer su vinculación a la guerra contra el virus.\\nhttps://t.co/CpqvUjLKG3', '@sebascervera3 Pero no te gustaría saber la farcpolitica? Es que la guerra no solo fue por paracos y está farc también tuvo apoyo de políticos afines a ellos! Eso no sería importante??', '@AdrianaLucia Apoyo total Adriana. Los insultos y amenazas son el resultado de años de terrorismo, muerte y una cultura narco. Colombia tiene mucho que aprender sobre tolerancia.', 'Declaró que los paramilitares son hijos del Estado y que recibieron adiestramiento y armas de las fuerzas regulares de Col. Esta estrategia encontró un apoyo en las cooperativas Convivir, legalizadas y respaldadas en Antioquia en los años 90 durante la gobernación de Álvaro Uribe', '@ElExtuiteado @MelbaCastaeda3 @IvanCepedaCast @JEP_Colombia Hay gente inocente o malintencionada.\\n\\nResulta que es imposible que ciertos grupos armados nacieran sin el apoyo estatal o de gente asociada al poder político, SI NO piensan como yo. Pero si eran las Farc: armas, ideología y dinero, les caían de la luna.', 'Hubo allanamiento en contra del Frente Héroes y Mártires de Anorí del ELN. Se logró captura de ´Román y ´Eutimio´.Desarrollaban actividades criminales de apoyo y abastecimiento al ELN en subregiones del Norte y Bajo Cauca.Aprovechaban aislamiento para almacenar material de guerra', 'Felicitaciones @Cine_Colombia excelente apuesta. \\n\\nCine al aire libre, para que la gente pueda disfrutar las películas desde sus hogares. \\n\\nOjalá presenten películas 🇨🇴 alternativas y con buenos productores, como por ejemplo Ciro Guerra. Sería chévere algo del proceso de paz. https://t.co/DHVdr6VhIW', 'La sociedad colombiana con una basta capacidad lógica escondida por una pandemia, pero meses  antes, querían guerra destruyendo los acuerdos de Paz, deslegitimando @JEP_Colombia  e incidiendo en políticas guerreristas contra Venezuela, \"como a mi no me toca\"', 'No en vano #Bogota tiene el 1er lugar en contagios y muertes (42% y 45%), con tanta mediocridad, de Alcalde y el apoyo de los medios, están condenados a perder la guerra del #COVIDー19 Mientras el país avanza apoyando al Presidente, estos están en Campaña https://t.co/eTKobAi1Ke', '@JulianRoman @nelsonramirezso @Amparo_Grisales Se siente feliz y realizado, con el apoyo político del partido de la farc.. si fuera tan honesto y transparente, no dejaría, que esa gente, que mató, violo y secuestro, le diera su respaldo😡', '@andrealdana @Geraldbermudez_ Como olvidar las casitas de tablas y tejas de zinc con graffitis del ELN; o las disidencias de las FARC deseando una feliz navidad y próspero año nuevo en Tibú. Allá la guerra no ha terminado', '@BluRadioCo @IvanCepedaCast @JEP_Colombia Y entonces la belleza esta, q va a recibir? , cuanta plata nos toca sacar a los colombianos?. Definitivamente las leyes de este pais están hechas para beneficio de la delincuencia y el terrorismo.', 'Milicias del Frente Urbano Manuel Cepeda Vargas, reorganiza las redes de apoyo al terrorismo de las Farc en el Valle del Cauca, controla narcotráfico, extorsión, minería ilegal.\\nPlanea atentados terroristas en contra de la población y la Fuerza Pública. @omarbula @jorasquin https://t.co/Apql8ouhcG', 'Colombia va ganando tiempo para fortalecerse frente a la pandemia y salvar vidas. Las próximas semanas permitirán afianzar logros, continuando apoyo a quienes + lo necesitan. Además de audaz acuerdo gob-oposición q destinará algunos recursos de armas a salud #YoMeQuedoEnCasa https://t.co/NQnYRvdvJ5', '@jorgecura1070 @AtlanticoEmi @LaReina_fm @IvanDuque A santos no le decían un culo, por robarse todo, vendiò isagen, hablar con las farc otra millonada, acá toca es proteger la gente en la 2da guerra mundial Vivia una familia de 4 con un pan toca aprender a comer normal no como animales, quédense en la casa y listo, es una PANDEMIA', '@BluRadioCo @IvanCepedaCast @JEP_Colombia Lo que faltaba de esa putrefaccion de organismo de apoyo al terrorismo.', '@GustavoBolivar El programa Colombia Agro Produce, que financió proyectos de grandes empresarios en 94% y sólo 2% para campesinos, enfrenta guerra interna porque por presión de ganaderos pretenden usar mayoría de recursos disponibles para grandes hatos ganaderos, dejando campesinos sin apoyo. https://t.co/wHniE9qFah', 'Si Santos apoyo a las FARC en completar las 250 mil ha de coca como plan de seguridad financiera para continuidad de la guerra (no quisieron trabajar seguridad alimentaria para Colombia con MADR), las buenas relaciones de Cuba con Obama completan la regla de 3 simple ? https://t.co/j8C1AUUzPK', '@cesarolse Sip, pero todo el mundo en un sálvese quien pueda nos puso en esta situación.\\n\\nEse apoyo que le dio Colombia a Korea del Sur en la guerra y que ellos recuerdan nos ayudo en esta, o si no estaríamos peor.', '@JesusMolinaCs @ekbufalo Bueno, muchos de los profesores que tienes como referencia firmaron la calurosa bienvenida a Fidel, el líder latinoamericano que también apoyó económicamente y con armas FARC. Así que allí ya mucho se puede concluir. \\n\\nBueno, ese es el representante de Venezuela ante la ONU...', '@petrogustavo Maldito parásito (+@&amp;#$/?!) Comunista socialista asesino anarquista, dando alarde de sus crímenes orgulloso de toda la muerte corrupción y terrorismo que ha generado en #Colombia feliz y dichoso ya que el sus equaces tienen licencia para delinquir en Colombia.', 'Por lo visto en hoy en twitter y el apoyo al M-19, en unos años Timochenko será en realidad un líder, defensor y salvador del pueblo colombiano y las Farc pasaran a ser en realidad un ejemplo de lucha social con armas y paz #NiPerdonNiOlvidoAlM19 Lo que hay que leer en estos dias', '@luchadorincan17 @alina_rot Exacto y ya hubo algo para los campesinos de la guerra de los grupos paramilitares que el mismo Ejercito desactivó...y se llama como? Me puede decir? O me toca contestarle la pregunta? Si está preparado para debatir conflicto armado...si puede contestar? O le ayudo.👍🇨🇴', '@petrogustavo Desafortunado Twitt, la guerra sólo ha dejado madres humildes llorando sus hijos. Voy hacer de cuenta que no lo he leído porque le tengo respeto. Apoyo la Colombia justa, la de oportunidades más no la confrontación y la polarización en la que nos han sometido.', '@espana_esta @EspanaSiemprVox @guardiacivil Con el nombramiento de la Fecal General para acabar con el poder judicial y ahora con el apoyo armado militar y policial, ya España tiene dictadura tipo chavista.  Solo les falta darle armas a los colectivos paramilitares Podemitas y PSOEvitas para ser la tiranía perfecta.', 'Claaaaro,estas feliz con la invasiòn de;cuba,rusia,china,iran,eln,farc,terrorismo,plastas de mierda como \"TÙ\", etc,etc... https://t.co/32f3wBam9j', '@petrogustavo Feliz cumpleaños gustavo!. Lo mejor fue que dejarás el camino de las armas; Colombia siempre ha necesitado una reforma integral agraria, y ésta al igual que la paz nunca se logrará por el camino de las armas. Te deseo lo mejor y que continúes con tus acertados argumentos.', '@petrogustavo Feliz cumpleaños gustavo!. Lo mejor fue que dejarás el camino de las armas; Colombia siempre ha necesitado una reforma integral agraria, y ésta al igual que la paz nunca se logrará por el camino de las armas. Te deseo lo mejor y que continúes con tus acertados argumentos.']\n"
     ]
    }
   ],
   "source": [
    "print(text)"
   ]
  },
  {
   "cell_type": "code",
   "execution_count": 228,
   "metadata": {},
   "outputs": [
    {
     "data": {
      "text/plain": [
       "['@Fernand60915270 @farmerguanabana @jflafaurie @HenaoBernardo @Fedegan @GaulaMilitares @GaulaPolicia @NobelPrize @JuanManSantos @JEP_Colombia @PartidoFARC @IvanDuque @CongresoCol Por La Empresa e Inversión es que Ud y Su Flia Pueden Comer y Disfrutar  de Medios para que uds PARASITOS VIVAN porque Trabaja Mas facil una Pala Empeñada que un Solo MAMERTOS de Uds Se Mueva y Algo por este País Viven de Gorra del Secuestro la Extorsión y Se Camuflan de Lideres']"
      ]
     },
     "execution_count": 228,
     "metadata": {},
     "output_type": "execute_result"
    }
   ],
   "source": [
    "prueba=[text[0]]\n",
    "prueba"
   ]
  },
  {
   "cell_type": "code",
   "execution_count": 229,
   "metadata": {},
   "outputs": [],
   "source": [
    "list1 = []\n",
    "for t in text:\n",
    "    list1.append(strip_all_entities(strip_links(t)))"
   ]
  },
  {
   "cell_type": "code",
   "execution_count": 230,
   "metadata": {},
   "outputs": [
    {
     "data": {
      "text/plain": [
       "['Colombia Por La Empresa e Inversión es que Ud y Su Flia Pueden Comer y Disfrutar de Medios para que uds PARASITOS VIVAN porque Trabaja Mas facil una Pala Empeñada que un Solo MAMERTOS de Uds Se Mueva y Algo por este País Viven de Gorra del Secuestro la Extorsión y Se Camuflan de Lideres',\n",
       " 'Este señor parece que solo lee el título de noticia Tanto Uruguay México Colombia y Chile viene aplicando educación a distancia muchos años atrás Aquí un genocida apoyó prensa chicha y mató estudiantes universitarios un suicida secuestró docentes y así Hipócrita',\n",
       " 'El cómplice de Santrich en Colombia goza de total apoyo de los magistrados jurídicamente podría decirse qué hay complicidad con el terrorismo',\n",
       " 'Pipe10 Pues colombia apoyó en la guerra de Corea tal vez se acuerdan y nos mandan un bombazo',\n",
       " 'Honorable Dr ABELARDODELAESPRILLA Muchas gracias por ayudar a salvar a Colombia permítame felicitarlo usted es una persona frentera sin miedo para cantarle la tabla de frente al terrorismo mi aprecio y admiración por su buen trabajo de abogado un abrazo feliz tarde',\n",
       " 'Las FARC siguen vivas solo que su CÚPULA ya no está en El Monte está en el congreso De resto todo igual extorsión catatumbo Nariño Cauca etc asesinatos selectivos secuestros tráfico de armas y droga vínculos con carteles reclutamiento de niños apoyo desde Vzla',\n",
       " 'Seria perfecto porque el virus ayudaria a acabar con las FARC pero no A su papá le dieron ganas de dejar un pais en paz La paz no sirve los uribistas necesitamos conflicto guerra muerte y el traidor de su padre nos la quitó Ahora nos toca inventar otro gracias a farcsantos',\n",
       " 'Por Dios lo único que ya no existe de las FARC es la CÚPULA en El Monte De resto está todo extorsión es Zonas como catatumbo Nariño Cauca etc asesinatos selectivos secuestros tráfico de armas y droga vínculos con carteles reclutamiento de niños apoyo desde Vzla',\n",
       " 'Ey Bangtan TIENE que saber de Colombia🇨🇴 porque en el colegio les debieron enseñar en historia que Colombia fue el único país latino que envió soldados como apoyo a Corea del Sur en la guerra contra Corea del Norte NOS DEBES MUCHAS BANGTAN Merecemos más 😤 twt',\n",
       " 'Si el pueblo elige un gobierno con política de guerra y apoyo empresarial no creamos q por arte de magia se convierta en un gobierno solidario y sentido social Un sistema de salud que busca el enriquecimiento de unos pocos y lo que quede para la atención',\n",
       " 'Colombia el país más entrenado militarmente Grupos de élite infranqueables cientos de millones en armas lo malo viene cuando a un soldado le toca ir al médico y su eps no lo atiende',\n",
       " 'El apoyo consiste en que el gobierno criminal de Colombia sigue arrodillado a los intereses de Trump e intercambio de drogas ppr armas a USA en estos momentos lo levanta la COCA tienen via libre para transportarla',\n",
       " 'que este personaje siniestro si toca hacerle inteligencia porque nació sin ella o si la tiene la utiliza para justificar la maldad y ser cómplices del narcotráfico y terrorismo en Colombia',\n",
       " 'Los hijos requieren atención cuidado en un país como el nuestro la prioridad es la de transformar el escenario de guerra por una colombia en paz Solo si uno de verdad quiere lo mejor para sus hijos Alguien se siente feliz dejando que sus hijos repitan la historia ✍️',\n",
       " 't4 Pues para vivir en Colombia y tener una vida recorrida ya haz visto muy poco en lo q a tu país se refiere es fácil hablar mierda cuanto no te toca o no sufres las consecuencias de la corrupción y la guerra insignias de nuestro pais para mí no haz visto nada',\n",
       " 'Todo lo contrario AL FIN se conoce que ES Tiranía Castrista solo con su apoyo INCONDICIONAL Tiranía Castrochavista donde hay 8mil Asesinatos Extrajudiciales esta DESACREDITADA sus vinculos con Terrorismo ELN Y FARC ya no engañan a nadie solo al que lo permite',\n",
       " 'El de Colombia apoyó la iniciativa de asignar 100 000 millones de pesos para combatir el pero dejan claro que estos recursos se mantienen en las fuerzas armadas para fortalecer su vinculación a la guerra contra el virus',\n",
       " 'Pero no te gustaría saber la farcpolitica Es que la guerra no solo fue por paracos y está farc también tuvo apoyo de políticos afines a ellos Eso no sería importante',\n",
       " 'Apoyo total Adriana Los insultos y amenazas son el resultado de años de terrorismo muerte y una cultura narco Colombia tiene mucho que aprender sobre tolerancia',\n",
       " 'Declaró que los paramilitares son hijos del Estado y que recibieron adiestramiento y armas de las fuerzas regulares de Col Esta estrategia encontró un apoyo en las cooperativas Convivir legalizadas y respaldadas en Antioquia en los años 90 durante la gobernación de Álvaro Uribe',\n",
       " 'Colombia Hay gente inocente o malintencionada Resulta que es imposible que ciertos grupos armados nacieran sin el apoyo estatal o de gente asociada al poder político SI NO piensan como yo Pero si eran las Farc armas ideología y dinero les caían de la luna',\n",
       " 'Hubo allanamiento en contra del Frente Héroes y Mártires de Anorí del ELN Se logró captura de ´Román y ´Eutimio´ Desarrollaban actividades criminales de apoyo y abastecimiento al ELN en subregiones del Norte y Bajo Cauca Aprovechaban aislamiento para almacenar material de guerra',\n",
       " 'Felicitaciones Colombia excelente apuesta Cine al aire libre para que la gente pueda disfrutar las películas desde sus hogares Ojalá presenten películas 🇨🇴 alternativas y con buenos productores como por ejemplo Ciro Guerra Sería chévere algo del proceso de paz',\n",
       " 'La sociedad colombiana con una basta capacidad lógica escondida por una pandemia pero meses antes querían guerra destruyendo los acuerdos de Paz deslegitimando Colombia e incidiendo en políticas guerreristas contra Venezuela como a mi no me toca',\n",
       " 'No en vano tiene el 1er lugar en contagios y muertes 42 y 45 con tanta mediocridad de Alcalde y el apoyo de los medios están condenados a perder la guerra del Mientras el país avanza apoyando al Presidente estos están en Campaña',\n",
       " 'Grisales Se siente feliz y realizado con el apoyo político del partido de la farc si fuera tan honesto y transparente no dejaría que esa gente que mató violo y secuestro le diera su respaldo😡',\n",
       " 'Como olvidar las casitas de tablas y tejas de zinc con graffitis del ELN o las disidencias de las FARC deseando una feliz navidad y próspero año nuevo en Tibú Allá la guerra no ha terminado',\n",
       " 'Colombia Y entonces la belleza esta q va a recibir cuanta plata nos toca sacar a los colombianos Definitivamente las leyes de este pais están hechas para beneficio de la delincuencia y el terrorismo',\n",
       " 'Milicias del Frente Urbano Manuel Cepeda Vargas reorganiza las redes de apoyo al terrorismo de las Farc en el Valle del Cauca controla narcotráfico extorsión minería ilegal Planea atentados terroristas en contra de la población y la Fuerza Pública',\n",
       " 'Colombia va ganando tiempo para fortalecerse frente a la pandemia y salvar vidas Las próximas semanas permitirán afianzar logros continuando apoyo a quienes lo necesitan Además de audaz acuerdo gob oposición q destinará algunos recursos de armas a salud',\n",
       " 'fm A santos no le decían un culo por robarse todo vendiò isagen hablar con las farc otra millonada acá toca es proteger la gente en la 2da guerra mundial Vivia una familia de 4 con un pan toca aprender a comer normal no como animales quédense en la casa y listo es una PANDEMIA',\n",
       " 'Colombia Lo que faltaba de esa putrefaccion de organismo de apoyo al terrorismo',\n",
       " 'El programa Colombia Agro Produce que financió proyectos de grandes empresarios en 94 y sólo 2 para campesinos enfrenta guerra interna porque por presión de ganaderos pretenden usar mayoría de recursos disponibles para grandes hatos ganaderos dejando campesinos sin apoyo',\n",
       " 'Si Santos apoyo a las FARC en completar las 250 mil ha de coca como plan de seguridad financiera para continuidad de la guerra no quisieron trabajar seguridad alimentaria para Colombia con MADR las buenas relaciones de Cuba con Obama completan la regla de 3 simple',\n",
       " 'Sip pero todo el mundo en un sálvese quien pueda nos puso en esta situación Ese apoyo que le dio Colombia a Korea del Sur en la guerra y que ellos recuerdan nos ayudo en esta o si no estaríamos peor',\n",
       " 'Bueno muchos de los profesores que tienes como referencia firmaron la calurosa bienvenida a Fidel el líder latinoamericano que también apoyó económicamente y con armas FARC Así que allí ya mucho se puede concluir Bueno ese es el representante de Venezuela ante la ONU',\n",
       " 'Maldito parásito amp Comunista socialista asesino anarquista dando alarde de sus crímenes orgulloso de toda la muerte corrupción y terrorismo que ha generado en feliz y dichoso ya que el sus equaces tienen licencia para delinquir en Colombia',\n",
       " 'Por lo visto en hoy en twitter y el apoyo al M 19 en unos años Timochenko será en realidad un líder defensor y salvador del pueblo colombiano y las Farc pasaran a ser en realidad un ejemplo de lucha social con armas y paz Lo que hay que leer en estos dias',\n",
       " 'rot Exacto y ya hubo algo para los campesinos de la guerra de los grupos paramilitares que el mismo Ejercito desactivó y se llama como Me puede decir O me toca contestarle la pregunta Si está preparado para debatir conflicto armado si puede contestar O le ayudo 👍🇨🇴',\n",
       " 'Desafortunado Twitt la guerra sólo ha dejado madres humildes llorando sus hijos Voy hacer de cuenta que no lo he leído porque le tengo respeto Apoyo la Colombia justa la de oportunidades más no la confrontación y la polarización en la que nos han sometido',\n",
       " 'esta Con el nombramiento de la Fecal General para acabar con el poder judicial y ahora con el apoyo armado militar y policial ya España tiene dictadura tipo chavista Solo les falta darle armas a los colectivos paramilitares Podemitas y PSOEvitas para ser la tiranía perfecta',\n",
       " 'Claaaaro estas feliz con la invasiòn de cuba rusia china iran eln farc terrorismo plastas de mierda como TÙ etc etc',\n",
       " 'Feliz cumpleaños gustavo Lo mejor fue que dejarás el camino de las armas Colombia siempre ha necesitado una reforma integral agraria y ésta al igual que la paz nunca se logrará por el camino de las armas Te deseo lo mejor y que continúes con tus acertados argumentos',\n",
       " 'Feliz cumpleaños gustavo Lo mejor fue que dejarás el camino de las armas Colombia siempre ha necesitado una reforma integral agraria y ésta al igual que la paz nunca se logrará por el camino de las armas Te deseo lo mejor y que continúes con tus acertados argumentos']"
      ]
     },
     "execution_count": 230,
     "metadata": {},
     "output_type": "execute_result"
    }
   ],
   "source": [
    "list1\n"
   ]
  },
  {
   "cell_type": "code",
   "execution_count": 106,
   "metadata": {},
   "outputs": [],
   "source": [
    "def minuscula(lista):\n",
    "    lista_def=[]\n",
    "    for i in lista:\n",
    "        palabra=i.strip()\n",
    "        nueva=palabra.lower()\n",
    "        lista_def.append(nueva)\n",
    "    return(lista_def)"
   ]
  },
  {
   "cell_type": "code",
   "execution_count": 232,
   "metadata": {},
   "outputs": [
    {
     "data": {
      "text/plain": [
       "['colombia por la empresa e inversión es que ud y su flia pueden comer y disfrutar de medios para que uds parasitos vivan porque trabaja mas facil una pala empeñada que un solo mamertos de uds se mueva y algo por este país viven de gorra del secuestro la extorsión y se camuflan de lideres',\n",
       " 'este señor parece que solo lee el título de noticia tanto uruguay méxico colombia y chile viene aplicando educación a distancia muchos años atrás aquí un genocida apoyó prensa chicha y mató estudiantes universitarios un suicida secuestró docentes y así hipócrita',\n",
       " 'el cómplice de santrich en colombia goza de total apoyo de los magistrados jurídicamente podría decirse qué hay complicidad con el terrorismo',\n",
       " 'pipe10 pues colombia apoyó en la guerra de corea tal vez se acuerdan y nos mandan un bombazo',\n",
       " 'honorable dr abelardodelaesprilla muchas gracias por ayudar a salvar a colombia permítame felicitarlo usted es una persona frentera sin miedo para cantarle la tabla de frente al terrorismo mi aprecio y admiración por su buen trabajo de abogado un abrazo feliz tarde',\n",
       " 'las farc siguen vivas solo que su cúpula ya no está en el monte está en el congreso de resto todo igual extorsión catatumbo nariño cauca etc asesinatos selectivos secuestros tráfico de armas y droga vínculos con carteles reclutamiento de niños apoyo desde vzla',\n",
       " 'seria perfecto porque el virus ayudaria a acabar con las farc pero no a su papá le dieron ganas de dejar un pais en paz la paz no sirve los uribistas necesitamos conflicto guerra muerte y el traidor de su padre nos la quitó ahora nos toca inventar otro gracias a farcsantos',\n",
       " 'por dios lo único que ya no existe de las farc es la cúpula en el monte de resto está todo extorsión es zonas como catatumbo nariño cauca etc asesinatos selectivos secuestros tráfico de armas y droga vínculos con carteles reclutamiento de niños apoyo desde vzla',\n",
       " 'ey bangtan tiene que saber de colombia🇨🇴 porque en el colegio les debieron enseñar en historia que colombia fue el único país latino que envió soldados como apoyo a corea del sur en la guerra contra corea del norte nos debes muchas bangtan merecemos más 😤 twt',\n",
       " 'si el pueblo elige un gobierno con política de guerra y apoyo empresarial no creamos q por arte de magia se convierta en un gobierno solidario y sentido social un sistema de salud que busca el enriquecimiento de unos pocos y lo que quede para la atención',\n",
       " 'colombia el país más entrenado militarmente grupos de élite infranqueables cientos de millones en armas lo malo viene cuando a un soldado le toca ir al médico y su eps no lo atiende',\n",
       " 'el apoyo consiste en que el gobierno criminal de colombia sigue arrodillado a los intereses de trump e intercambio de drogas ppr armas a usa en estos momentos lo levanta la coca tienen via libre para transportarla',\n",
       " 'que este personaje siniestro si toca hacerle inteligencia porque nació sin ella o si la tiene la utiliza para justificar la maldad y ser cómplices del narcotráfico y terrorismo en colombia',\n",
       " 'los hijos requieren atención cuidado en un país como el nuestro la prioridad es la de transformar el escenario de guerra por una colombia en paz solo si uno de verdad quiere lo mejor para sus hijos alguien se siente feliz dejando que sus hijos repitan la historia ✍️',\n",
       " 't4 pues para vivir en colombia y tener una vida recorrida ya haz visto muy poco en lo q a tu país se refiere es fácil hablar mierda cuanto no te toca o no sufres las consecuencias de la corrupción y la guerra insignias de nuestro pais para mí no haz visto nada',\n",
       " 'todo lo contrario al fin se conoce que es tiranía castrista solo con su apoyo incondicional tiranía castrochavista donde hay 8mil asesinatos extrajudiciales esta desacreditada sus vinculos con terrorismo eln y farc ya no engañan a nadie solo al que lo permite',\n",
       " 'el de colombia apoyó la iniciativa de asignar 100 000 millones de pesos para combatir el pero dejan claro que estos recursos se mantienen en las fuerzas armadas para fortalecer su vinculación a la guerra contra el virus',\n",
       " 'pero no te gustaría saber la farcpolitica es que la guerra no solo fue por paracos y está farc también tuvo apoyo de políticos afines a ellos eso no sería importante',\n",
       " 'apoyo total adriana los insultos y amenazas son el resultado de años de terrorismo muerte y una cultura narco colombia tiene mucho que aprender sobre tolerancia',\n",
       " 'declaró que los paramilitares son hijos del estado y que recibieron adiestramiento y armas de las fuerzas regulares de col esta estrategia encontró un apoyo en las cooperativas convivir legalizadas y respaldadas en antioquia en los años 90 durante la gobernación de álvaro uribe',\n",
       " 'colombia hay gente inocente o malintencionada resulta que es imposible que ciertos grupos armados nacieran sin el apoyo estatal o de gente asociada al poder político si no piensan como yo pero si eran las farc armas ideología y dinero les caían de la luna',\n",
       " 'hubo allanamiento en contra del frente héroes y mártires de anorí del eln se logró captura de ´román y ´eutimio´ desarrollaban actividades criminales de apoyo y abastecimiento al eln en subregiones del norte y bajo cauca aprovechaban aislamiento para almacenar material de guerra',\n",
       " 'felicitaciones colombia excelente apuesta cine al aire libre para que la gente pueda disfrutar las películas desde sus hogares ojalá presenten películas 🇨🇴 alternativas y con buenos productores como por ejemplo ciro guerra sería chévere algo del proceso de paz',\n",
       " 'la sociedad colombiana con una basta capacidad lógica escondida por una pandemia pero meses antes querían guerra destruyendo los acuerdos de paz deslegitimando colombia e incidiendo en políticas guerreristas contra venezuela como a mi no me toca',\n",
       " 'no en vano tiene el 1er lugar en contagios y muertes 42 y 45 con tanta mediocridad de alcalde y el apoyo de los medios están condenados a perder la guerra del mientras el país avanza apoyando al presidente estos están en campaña',\n",
       " 'grisales se siente feliz y realizado con el apoyo político del partido de la farc si fuera tan honesto y transparente no dejaría que esa gente que mató violo y secuestro le diera su respaldo😡',\n",
       " 'como olvidar las casitas de tablas y tejas de zinc con graffitis del eln o las disidencias de las farc deseando una feliz navidad y próspero año nuevo en tibú allá la guerra no ha terminado',\n",
       " 'colombia y entonces la belleza esta q va a recibir cuanta plata nos toca sacar a los colombianos definitivamente las leyes de este pais están hechas para beneficio de la delincuencia y el terrorismo',\n",
       " 'milicias del frente urbano manuel cepeda vargas reorganiza las redes de apoyo al terrorismo de las farc en el valle del cauca controla narcotráfico extorsión minería ilegal planea atentados terroristas en contra de la población y la fuerza pública',\n",
       " 'colombia va ganando tiempo para fortalecerse frente a la pandemia y salvar vidas las próximas semanas permitirán afianzar logros continuando apoyo a quienes lo necesitan además de audaz acuerdo gob oposición q destinará algunos recursos de armas a salud',\n",
       " 'fm a santos no le decían un culo por robarse todo vendiò isagen hablar con las farc otra millonada acá toca es proteger la gente en la 2da guerra mundial vivia una familia de 4 con un pan toca aprender a comer normal no como animales quédense en la casa y listo es una pandemia',\n",
       " 'colombia lo que faltaba de esa putrefaccion de organismo de apoyo al terrorismo',\n",
       " 'el programa colombia agro produce que financió proyectos de grandes empresarios en 94 y sólo 2 para campesinos enfrenta guerra interna porque por presión de ganaderos pretenden usar mayoría de recursos disponibles para grandes hatos ganaderos dejando campesinos sin apoyo',\n",
       " 'si santos apoyo a las farc en completar las 250 mil ha de coca como plan de seguridad financiera para continuidad de la guerra no quisieron trabajar seguridad alimentaria para colombia con madr las buenas relaciones de cuba con obama completan la regla de 3 simple',\n",
       " 'sip pero todo el mundo en un sálvese quien pueda nos puso en esta situación ese apoyo que le dio colombia a korea del sur en la guerra y que ellos recuerdan nos ayudo en esta o si no estaríamos peor',\n",
       " 'bueno muchos de los profesores que tienes como referencia firmaron la calurosa bienvenida a fidel el líder latinoamericano que también apoyó económicamente y con armas farc así que allí ya mucho se puede concluir bueno ese es el representante de venezuela ante la onu',\n",
       " 'maldito parásito amp comunista socialista asesino anarquista dando alarde de sus crímenes orgulloso de toda la muerte corrupción y terrorismo que ha generado en feliz y dichoso ya que el sus equaces tienen licencia para delinquir en colombia',\n",
       " 'por lo visto en hoy en twitter y el apoyo al m 19 en unos años timochenko será en realidad un líder defensor y salvador del pueblo colombiano y las farc pasaran a ser en realidad un ejemplo de lucha social con armas y paz lo que hay que leer en estos dias',\n",
       " 'rot exacto y ya hubo algo para los campesinos de la guerra de los grupos paramilitares que el mismo ejercito desactivó y se llama como me puede decir o me toca contestarle la pregunta si está preparado para debatir conflicto armado si puede contestar o le ayudo 👍🇨🇴',\n",
       " 'desafortunado twitt la guerra sólo ha dejado madres humildes llorando sus hijos voy hacer de cuenta que no lo he leído porque le tengo respeto apoyo la colombia justa la de oportunidades más no la confrontación y la polarización en la que nos han sometido',\n",
       " 'esta con el nombramiento de la fecal general para acabar con el poder judicial y ahora con el apoyo armado militar y policial ya españa tiene dictadura tipo chavista solo les falta darle armas a los colectivos paramilitares podemitas y psoevitas para ser la tiranía perfecta',\n",
       " 'claaaaro estas feliz con la invasiòn de cuba rusia china iran eln farc terrorismo plastas de mierda como tù etc etc',\n",
       " 'feliz cumpleaños gustavo lo mejor fue que dejarás el camino de las armas colombia siempre ha necesitado una reforma integral agraria y ésta al igual que la paz nunca se logrará por el camino de las armas te deseo lo mejor y que continúes con tus acertados argumentos',\n",
       " 'feliz cumpleaños gustavo lo mejor fue que dejarás el camino de las armas colombia siempre ha necesitado una reforma integral agraria y ésta al igual que la paz nunca se logrará por el camino de las armas te deseo lo mejor y que continúes con tus acertados argumentos']"
      ]
     },
     "execution_count": 232,
     "metadata": {},
     "output_type": "execute_result"
    }
   ],
   "source": [
    "list2 = minuscula(list1)\n",
    "list2\n"
   ]
  },
  {
   "cell_type": "code",
   "execution_count": 237,
   "metadata": {},
   "outputs": [],
   "source": [
    "import emoji"
   ]
  },
  {
   "cell_type": "code",
   "execution_count": 242,
   "metadata": {},
   "outputs": [],
   "source": [
    "list3 = []\n",
    "for l in list2:\n",
    "    list3.append(emoji.demojize(l, delimiters=(\"\", \"\")))\n"
   ]
  },
  {
   "cell_type": "code",
   "execution_count": 243,
   "metadata": {},
   "outputs": [
    {
     "data": {
      "text/plain": [
       "['colombia por la empresa e inversión es que ud y su flia pueden comer y disfrutar de medios para que uds parasitos vivan porque trabaja mas facil una pala empeñada que un solo mamertos de uds se mueva y algo por este país viven de gorra del secuestro la extorsión y se camuflan de lideres',\n",
       " 'este señor parece que solo lee el título de noticia tanto uruguay méxico colombia y chile viene aplicando educación a distancia muchos años atrás aquí un genocida apoyó prensa chicha y mató estudiantes universitarios un suicida secuestró docentes y así hipócrita',\n",
       " 'el cómplice de santrich en colombia goza de total apoyo de los magistrados jurídicamente podría decirse qué hay complicidad con el terrorismo',\n",
       " 'pipe10 pues colombia apoyó en la guerra de corea tal vez se acuerdan y nos mandan un bombazo',\n",
       " 'honorable dr abelardodelaesprilla muchas gracias por ayudar a salvar a colombia permítame felicitarlo usted es una persona frentera sin miedo para cantarle la tabla de frente al terrorismo mi aprecio y admiración por su buen trabajo de abogado un abrazo feliz tarde',\n",
       " 'las farc siguen vivas solo que su cúpula ya no está en el monte está en el congreso de resto todo igual extorsión catatumbo nariño cauca etc asesinatos selectivos secuestros tráfico de armas y droga vínculos con carteles reclutamiento de niños apoyo desde vzla',\n",
       " 'seria perfecto porque el virus ayudaria a acabar con las farc pero no a su papá le dieron ganas de dejar un pais en paz la paz no sirve los uribistas necesitamos conflicto guerra muerte y el traidor de su padre nos la quitó ahora nos toca inventar otro gracias a farcsantos',\n",
       " 'por dios lo único que ya no existe de las farc es la cúpula en el monte de resto está todo extorsión es zonas como catatumbo nariño cauca etc asesinatos selectivos secuestros tráfico de armas y droga vínculos con carteles reclutamiento de niños apoyo desde vzla',\n",
       " 'ey bangtan tiene que saber de colombiaColombia porque en el colegio les debieron enseñar en historia que colombia fue el único país latino que envió soldados como apoyo a corea del sur en la guerra contra corea del norte nos debes muchas bangtan merecemos más face_with_steam_from_nose twt',\n",
       " 'si el pueblo elige un gobierno con política de guerra y apoyo empresarial no creamos q por arte de magia se convierta en un gobierno solidario y sentido social un sistema de salud que busca el enriquecimiento de unos pocos y lo que quede para la atención',\n",
       " 'colombia el país más entrenado militarmente grupos de élite infranqueables cientos de millones en armas lo malo viene cuando a un soldado le toca ir al médico y su eps no lo atiende',\n",
       " 'el apoyo consiste en que el gobierno criminal de colombia sigue arrodillado a los intereses de trump e intercambio de drogas ppr armas a usa en estos momentos lo levanta la coca tienen via libre para transportarla',\n",
       " 'que este personaje siniestro si toca hacerle inteligencia porque nació sin ella o si la tiene la utiliza para justificar la maldad y ser cómplices del narcotráfico y terrorismo en colombia',\n",
       " 'los hijos requieren atención cuidado en un país como el nuestro la prioridad es la de transformar el escenario de guerra por una colombia en paz solo si uno de verdad quiere lo mejor para sus hijos alguien se siente feliz dejando que sus hijos repitan la historia writing_hand',\n",
       " 't4 pues para vivir en colombia y tener una vida recorrida ya haz visto muy poco en lo q a tu país se refiere es fácil hablar mierda cuanto no te toca o no sufres las consecuencias de la corrupción y la guerra insignias de nuestro pais para mí no haz visto nada',\n",
       " 'todo lo contrario al fin se conoce que es tiranía castrista solo con su apoyo incondicional tiranía castrochavista donde hay 8mil asesinatos extrajudiciales esta desacreditada sus vinculos con terrorismo eln y farc ya no engañan a nadie solo al que lo permite',\n",
       " 'el de colombia apoyó la iniciativa de asignar 100 000 millones de pesos para combatir el pero dejan claro que estos recursos se mantienen en las fuerzas armadas para fortalecer su vinculación a la guerra contra el virus',\n",
       " 'pero no te gustaría saber la farcpolitica es que la guerra no solo fue por paracos y está farc también tuvo apoyo de políticos afines a ellos eso no sería importante',\n",
       " 'apoyo total adriana los insultos y amenazas son el resultado de años de terrorismo muerte y una cultura narco colombia tiene mucho que aprender sobre tolerancia',\n",
       " 'declaró que los paramilitares son hijos del estado y que recibieron adiestramiento y armas de las fuerzas regulares de col esta estrategia encontró un apoyo en las cooperativas convivir legalizadas y respaldadas en antioquia en los años 90 durante la gobernación de álvaro uribe',\n",
       " 'colombia hay gente inocente o malintencionada resulta que es imposible que ciertos grupos armados nacieran sin el apoyo estatal o de gente asociada al poder político si no piensan como yo pero si eran las farc armas ideología y dinero les caían de la luna',\n",
       " 'hubo allanamiento en contra del frente héroes y mártires de anorí del eln se logró captura de ´román y ´eutimio´ desarrollaban actividades criminales de apoyo y abastecimiento al eln en subregiones del norte y bajo cauca aprovechaban aislamiento para almacenar material de guerra',\n",
       " 'felicitaciones colombia excelente apuesta cine al aire libre para que la gente pueda disfrutar las películas desde sus hogares ojalá presenten películas Colombia alternativas y con buenos productores como por ejemplo ciro guerra sería chévere algo del proceso de paz',\n",
       " 'la sociedad colombiana con una basta capacidad lógica escondida por una pandemia pero meses antes querían guerra destruyendo los acuerdos de paz deslegitimando colombia e incidiendo en políticas guerreristas contra venezuela como a mi no me toca',\n",
       " 'no en vano tiene el 1er lugar en contagios y muertes 42 y 45 con tanta mediocridad de alcalde y el apoyo de los medios están condenados a perder la guerra del mientras el país avanza apoyando al presidente estos están en campaña',\n",
       " 'grisales se siente feliz y realizado con el apoyo político del partido de la farc si fuera tan honesto y transparente no dejaría que esa gente que mató violo y secuestro le diera su respaldopouting_face',\n",
       " 'como olvidar las casitas de tablas y tejas de zinc con graffitis del eln o las disidencias de las farc deseando una feliz navidad y próspero año nuevo en tibú allá la guerra no ha terminado',\n",
       " 'colombia y entonces la belleza esta q va a recibir cuanta plata nos toca sacar a los colombianos definitivamente las leyes de este pais están hechas para beneficio de la delincuencia y el terrorismo',\n",
       " 'milicias del frente urbano manuel cepeda vargas reorganiza las redes de apoyo al terrorismo de las farc en el valle del cauca controla narcotráfico extorsión minería ilegal planea atentados terroristas en contra de la población y la fuerza pública',\n",
       " 'colombia va ganando tiempo para fortalecerse frente a la pandemia y salvar vidas las próximas semanas permitirán afianzar logros continuando apoyo a quienes lo necesitan además de audaz acuerdo gob oposición q destinará algunos recursos de armas a salud',\n",
       " 'fm a santos no le decían un culo por robarse todo vendiò isagen hablar con las farc otra millonada acá toca es proteger la gente en la 2da guerra mundial vivia una familia de 4 con un pan toca aprender a comer normal no como animales quédense en la casa y listo es una pandemia',\n",
       " 'colombia lo que faltaba de esa putrefaccion de organismo de apoyo al terrorismo',\n",
       " 'el programa colombia agro produce que financió proyectos de grandes empresarios en 94 y sólo 2 para campesinos enfrenta guerra interna porque por presión de ganaderos pretenden usar mayoría de recursos disponibles para grandes hatos ganaderos dejando campesinos sin apoyo',\n",
       " 'si santos apoyo a las farc en completar las 250 mil ha de coca como plan de seguridad financiera para continuidad de la guerra no quisieron trabajar seguridad alimentaria para colombia con madr las buenas relaciones de cuba con obama completan la regla de 3 simple',\n",
       " 'sip pero todo el mundo en un sálvese quien pueda nos puso en esta situación ese apoyo que le dio colombia a korea del sur en la guerra y que ellos recuerdan nos ayudo en esta o si no estaríamos peor',\n",
       " 'bueno muchos de los profesores que tienes como referencia firmaron la calurosa bienvenida a fidel el líder latinoamericano que también apoyó económicamente y con armas farc así que allí ya mucho se puede concluir bueno ese es el representante de venezuela ante la onu',\n",
       " 'maldito parásito amp comunista socialista asesino anarquista dando alarde de sus crímenes orgulloso de toda la muerte corrupción y terrorismo que ha generado en feliz y dichoso ya que el sus equaces tienen licencia para delinquir en colombia',\n",
       " 'por lo visto en hoy en twitter y el apoyo al m 19 en unos años timochenko será en realidad un líder defensor y salvador del pueblo colombiano y las farc pasaran a ser en realidad un ejemplo de lucha social con armas y paz lo que hay que leer en estos dias',\n",
       " 'rot exacto y ya hubo algo para los campesinos de la guerra de los grupos paramilitares que el mismo ejercito desactivó y se llama como me puede decir o me toca contestarle la pregunta si está preparado para debatir conflicto armado si puede contestar o le ayudo thumbs_upColombia',\n",
       " 'desafortunado twitt la guerra sólo ha dejado madres humildes llorando sus hijos voy hacer de cuenta que no lo he leído porque le tengo respeto apoyo la colombia justa la de oportunidades más no la confrontación y la polarización en la que nos han sometido',\n",
       " 'esta con el nombramiento de la fecal general para acabar con el poder judicial y ahora con el apoyo armado militar y policial ya españa tiene dictadura tipo chavista solo les falta darle armas a los colectivos paramilitares podemitas y psoevitas para ser la tiranía perfecta',\n",
       " 'claaaaro estas feliz con la invasiòn de cuba rusia china iran eln farc terrorismo plastas de mierda como tù etc etc',\n",
       " 'feliz cumpleaños gustavo lo mejor fue que dejarás el camino de las armas colombia siempre ha necesitado una reforma integral agraria y ésta al igual que la paz nunca se logrará por el camino de las armas te deseo lo mejor y que continúes con tus acertados argumentos',\n",
       " 'feliz cumpleaños gustavo lo mejor fue que dejarás el camino de las armas colombia siempre ha necesitado una reforma integral agraria y ésta al igual que la paz nunca se logrará por el camino de las armas te deseo lo mejor y que continúes con tus acertados argumentos']"
      ]
     },
     "execution_count": 243,
     "metadata": {},
     "output_type": "execute_result"
    }
   ],
   "source": [
    "list3"
   ]
  },
  {
   "cell_type": "code",
   "execution_count": 244,
   "metadata": {},
   "outputs": [],
   "source": [
    "from googletrans import Translator"
   ]
  },
  {
   "cell_type": "code",
   "execution_count": 245,
   "metadata": {},
   "outputs": [],
   "source": [
    "def traducir_ingles(lista):\n",
    "    lista_def=[]\n",
    "    for i in range(0,len(lista)):\n",
    "        palabra=lista[i].strip()\n",
    "        try:\n",
    "            pal_ingles=traductor.translate(palabra,src='es',dest='en')\n",
    "            print(\"se hizo\",i)\n",
    "            lista_def.append(pal_ingles)\n",
    "        except:\n",
    "            print(\"problemas en la palabra\",i)\n",
    "            lista_def.append('NA')\n",
    "    return(lista_def)"
   ]
  },
  {
   "cell_type": "code",
   "execution_count": null,
   "metadata": {},
   "outputs": [],
   "source": [
    "from googletrans import Translator\n",
    "\n",
    "translator = Translator()\n",
    "\n",
    "result = translator.translate(text, src='es', dest='en')\n",
    "\n",
    "print(result.text)"
   ]
  }
 ],
 "metadata": {
  "kernelspec": {
   "display_name": "Python 3",
   "language": "python",
   "name": "python3"
  },
  "language_info": {
   "codemirror_mode": {
    "name": "ipython",
    "version": 3
   },
   "file_extension": ".py",
   "mimetype": "text/x-python",
   "name": "python",
   "nbconvert_exporter": "python",
   "pygments_lexer": "ipython3",
   "version": "3.7.6"
  }
 },
 "nbformat": 4,
 "nbformat_minor": 4
}
